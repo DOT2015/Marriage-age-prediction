{
 "cells": [
  {
   "cell_type": "code",
   "execution_count": 16,
   "id": "0df93110",
   "metadata": {},
   "outputs": [
    {
     "data": {
      "text/html": [
       "<div>\n",
       "<style scoped>\n",
       "    .dataframe tbody tr th:only-of-type {\n",
       "        vertical-align: middle;\n",
       "    }\n",
       "\n",
       "    .dataframe tbody tr th {\n",
       "        vertical-align: top;\n",
       "    }\n",
       "\n",
       "    .dataframe thead th {\n",
       "        text-align: right;\n",
       "    }\n",
       "</style>\n",
       "<table border=\"1\" class=\"dataframe\">\n",
       "  <thead>\n",
       "    <tr style=\"text-align: right;\">\n",
       "      <th></th>\n",
       "      <th>id</th>\n",
       "      <th>gender</th>\n",
       "      <th>height</th>\n",
       "      <th>religion</th>\n",
       "      <th>caste</th>\n",
       "      <th>mother_tongue</th>\n",
       "      <th>profession</th>\n",
       "      <th>location</th>\n",
       "      <th>country</th>\n",
       "      <th>age_of_marriage</th>\n",
       "    </tr>\n",
       "  </thead>\n",
       "  <tbody>\n",
       "    <tr>\n",
       "      <th>0</th>\n",
       "      <td>1</td>\n",
       "      <td>female</td>\n",
       "      <td>5'4\"</td>\n",
       "      <td>NaN</td>\n",
       "      <td>others</td>\n",
       "      <td>Telugu</td>\n",
       "      <td>NaN</td>\n",
       "      <td>London</td>\n",
       "      <td>United Kingdom</td>\n",
       "      <td>21.0</td>\n",
       "    </tr>\n",
       "    <tr>\n",
       "      <th>1</th>\n",
       "      <td>2</td>\n",
       "      <td>male</td>\n",
       "      <td>5'7\"</td>\n",
       "      <td>Jain</td>\n",
       "      <td>Shwetamber</td>\n",
       "      <td>Gujarati</td>\n",
       "      <td>Doctor / Healthcare Professional</td>\n",
       "      <td>Fairfax- VA</td>\n",
       "      <td>USA</td>\n",
       "      <td>32.0</td>\n",
       "    </tr>\n",
       "    <tr>\n",
       "      <th>2</th>\n",
       "      <td>3</td>\n",
       "      <td>male</td>\n",
       "      <td>5'7\"</td>\n",
       "      <td>Hindu</td>\n",
       "      <td>Brahmin</td>\n",
       "      <td>Hindi</td>\n",
       "      <td>Entrepreneurs / Business</td>\n",
       "      <td>Begusarai</td>\n",
       "      <td>India</td>\n",
       "      <td>32.0</td>\n",
       "    </tr>\n",
       "    <tr>\n",
       "      <th>3</th>\n",
       "      <td>4</td>\n",
       "      <td>female</td>\n",
       "      <td>5'0\"</td>\n",
       "      <td>Hindu</td>\n",
       "      <td>Thakur</td>\n",
       "      <td>Hindi</td>\n",
       "      <td>Architect</td>\n",
       "      <td>Mumbai</td>\n",
       "      <td>India</td>\n",
       "      <td>30.0</td>\n",
       "    </tr>\n",
       "    <tr>\n",
       "      <th>4</th>\n",
       "      <td>5</td>\n",
       "      <td>male</td>\n",
       "      <td>5'5\"</td>\n",
       "      <td>Christian</td>\n",
       "      <td>Born Again</td>\n",
       "      <td>Malayalam</td>\n",
       "      <td>Sales Professional / Marketing</td>\n",
       "      <td>Sulthan Bathery</td>\n",
       "      <td>India</td>\n",
       "      <td>30.0</td>\n",
       "    </tr>\n",
       "  </tbody>\n",
       "</table>\n",
       "</div>"
      ],
      "text/plain": [
       "   id  gender height   religion        caste mother_tongue  \\\n",
       "0   1  female   5'4\"        NaN       others        Telugu   \n",
       "1   2    male   5'7\"       Jain   Shwetamber      Gujarati   \n",
       "2   3    male   5'7\"      Hindu      Brahmin         Hindi   \n",
       "3   4  female   5'0\"      Hindu       Thakur         Hindi   \n",
       "4   5    male   5'5\"  Christian   Born Again     Malayalam   \n",
       "\n",
       "                         profession         location          country  \\\n",
       "0                               NaN           London   United Kingdom   \n",
       "1  Doctor / Healthcare Professional      Fairfax- VA              USA   \n",
       "2         Entrepreneurs / Business         Begusarai            India   \n",
       "3                         Architect           Mumbai            India   \n",
       "4    Sales Professional / Marketing  Sulthan Bathery            India   \n",
       "\n",
       "   age_of_marriage  \n",
       "0             21.0  \n",
       "1             32.0  \n",
       "2             32.0  \n",
       "3             30.0  \n",
       "4             30.0  "
      ]
     },
     "execution_count": 16,
     "metadata": {},
     "output_type": "execute_result"
    }
   ],
   "source": [
    "import pandas as pd\n",
    "data = pd.read_csv('data/marriage.csv')\n",
    "data.head()"
   ]
  },
  {
   "cell_type": "code",
   "execution_count": 17,
   "id": "d942d52c",
   "metadata": {},
   "outputs": [
    {
     "data": {
      "text/plain": [
       "(2567, 10)"
      ]
     },
     "execution_count": 17,
     "metadata": {},
     "output_type": "execute_result"
    }
   ],
   "source": [
    "data.shape"
   ]
  },
  {
   "cell_type": "code",
   "execution_count": 18,
   "id": "fe549fd0",
   "metadata": {},
   "outputs": [
    {
     "data": {
      "text/plain": [
       "id                   0\n",
       "gender              29\n",
       "height             118\n",
       "religion           635\n",
       "caste              142\n",
       "mother_tongue      164\n",
       "profession         330\n",
       "location           155\n",
       "country             16\n",
       "age_of_marriage     19\n",
       "dtype: int64"
      ]
     },
     "execution_count": 18,
     "metadata": {},
     "output_type": "execute_result"
    }
   ],
   "source": [
    "# finding how many null values we have\n",
    "data.isnull().sum()"
   ]
  },
  {
   "cell_type": "code",
   "execution_count": 19,
   "id": "f9e3cd62",
   "metadata": {},
   "outputs": [
    {
     "data": {
      "text/plain": [
       "(1932, 10)"
      ]
     },
     "execution_count": 19,
     "metadata": {},
     "output_type": "execute_result"
    }
   ],
   "source": [
    "# dropping the null values\n",
    "data.dropna().shape"
   ]
  },
  {
   "cell_type": "code",
   "execution_count": 20,
   "id": "eaa396c5",
   "metadata": {},
   "outputs": [
    {
     "data": {
      "text/plain": [
       "0.24737047136735488"
      ]
     },
     "execution_count": 20,
     "metadata": {},
     "output_type": "execute_result"
    }
   ],
   "source": [
    "# Percentages of dropped values\n",
    "(data.shape[0] - data.dropna().shape[0]) / data.shape[0]"
   ]
  },
  {
   "cell_type": "code",
   "execution_count": 21,
   "id": "d87cd2af",
   "metadata": {},
   "outputs": [],
   "source": [
    "data.dropna(inplace=True)"
   ]
  },
  {
   "cell_type": "code",
   "execution_count": 22,
   "id": "6546b09f",
   "metadata": {},
   "outputs": [
    {
     "data": {
      "text/plain": [
       "(1932, 10)"
      ]
     },
     "execution_count": 22,
     "metadata": {},
     "output_type": "execute_result"
    }
   ],
   "source": [
    "data.shape"
   ]
  },
  {
   "cell_type": "code",
   "execution_count": 23,
   "id": "8159b4d3",
   "metadata": {},
   "outputs": [
    {
     "data": {
      "text/html": [
       "<div>\n",
       "<style scoped>\n",
       "    .dataframe tbody tr th:only-of-type {\n",
       "        vertical-align: middle;\n",
       "    }\n",
       "\n",
       "    .dataframe tbody tr th {\n",
       "        vertical-align: top;\n",
       "    }\n",
       "\n",
       "    .dataframe thead th {\n",
       "        text-align: right;\n",
       "    }\n",
       "</style>\n",
       "<table border=\"1\" class=\"dataframe\">\n",
       "  <thead>\n",
       "    <tr style=\"text-align: right;\">\n",
       "      <th></th>\n",
       "      <th>id</th>\n",
       "      <th>gender</th>\n",
       "      <th>height</th>\n",
       "      <th>religion</th>\n",
       "      <th>caste</th>\n",
       "      <th>mother_tongue</th>\n",
       "      <th>profession</th>\n",
       "      <th>location</th>\n",
       "      <th>country</th>\n",
       "      <th>age_of_marriage</th>\n",
       "    </tr>\n",
       "  </thead>\n",
       "  <tbody>\n",
       "    <tr>\n",
       "      <th>1</th>\n",
       "      <td>2</td>\n",
       "      <td>male</td>\n",
       "      <td>5'7\"</td>\n",
       "      <td>Jain</td>\n",
       "      <td>Shwetamber</td>\n",
       "      <td>Gujarati</td>\n",
       "      <td>Doctor / Healthcare Professional</td>\n",
       "      <td>Fairfax- VA</td>\n",
       "      <td>USA</td>\n",
       "      <td>32.0</td>\n",
       "    </tr>\n",
       "    <tr>\n",
       "      <th>2</th>\n",
       "      <td>3</td>\n",
       "      <td>male</td>\n",
       "      <td>5'7\"</td>\n",
       "      <td>Hindu</td>\n",
       "      <td>Brahmin</td>\n",
       "      <td>Hindi</td>\n",
       "      <td>Entrepreneurs / Business</td>\n",
       "      <td>Begusarai</td>\n",
       "      <td>India</td>\n",
       "      <td>32.0</td>\n",
       "    </tr>\n",
       "    <tr>\n",
       "      <th>3</th>\n",
       "      <td>4</td>\n",
       "      <td>female</td>\n",
       "      <td>5'0\"</td>\n",
       "      <td>Hindu</td>\n",
       "      <td>Thakur</td>\n",
       "      <td>Hindi</td>\n",
       "      <td>Architect</td>\n",
       "      <td>Mumbai</td>\n",
       "      <td>India</td>\n",
       "      <td>30.0</td>\n",
       "    </tr>\n",
       "    <tr>\n",
       "      <th>4</th>\n",
       "      <td>5</td>\n",
       "      <td>male</td>\n",
       "      <td>5'5\"</td>\n",
       "      <td>Christian</td>\n",
       "      <td>Born Again</td>\n",
       "      <td>Malayalam</td>\n",
       "      <td>Sales Professional / Marketing</td>\n",
       "      <td>Sulthan Bathery</td>\n",
       "      <td>India</td>\n",
       "      <td>30.0</td>\n",
       "    </tr>\n",
       "    <tr>\n",
       "      <th>5</th>\n",
       "      <td>6</td>\n",
       "      <td>male</td>\n",
       "      <td>5'5\"</td>\n",
       "      <td>Hindu</td>\n",
       "      <td>Valmiki</td>\n",
       "      <td>Hindi</td>\n",
       "      <td>Sportsman</td>\n",
       "      <td>Delhi</td>\n",
       "      <td>India</td>\n",
       "      <td>29.0</td>\n",
       "    </tr>\n",
       "  </tbody>\n",
       "</table>\n",
       "</div>"
      ],
      "text/plain": [
       "   id  gender height   religion        caste mother_tongue  \\\n",
       "1   2    male   5'7\"       Jain   Shwetamber      Gujarati   \n",
       "2   3    male   5'7\"      Hindu      Brahmin         Hindi   \n",
       "3   4  female   5'0\"      Hindu       Thakur         Hindi   \n",
       "4   5    male   5'5\"  Christian   Born Again     Malayalam   \n",
       "5   6    male   5'5\"      Hindu      Valmiki         Hindi   \n",
       "\n",
       "                         profession         location country  age_of_marriage  \n",
       "1  Doctor / Healthcare Professional      Fairfax- VA     USA             32.0  \n",
       "2         Entrepreneurs / Business         Begusarai   India             32.0  \n",
       "3                         Architect           Mumbai   India             30.0  \n",
       "4    Sales Professional / Marketing  Sulthan Bathery   India             30.0  \n",
       "5                         Sportsman            Delhi   India             29.0  "
      ]
     },
     "execution_count": 23,
     "metadata": {},
     "output_type": "execute_result"
    }
   ],
   "source": [
    "data.head()"
   ]
  },
  {
   "cell_type": "code",
   "execution_count": 24,
   "id": "fb1b0fd6",
   "metadata": {},
   "outputs": [],
   "source": [
    "# Splitting the data into X and y\n",
    "X = data.loc[:, ['gender', 'height', 'religion', 'caste', 'mother_tongue', 'country']]\n",
    "y = data.age_of_marriage"
   ]
  },
  {
   "cell_type": "code",
   "execution_count": 25,
   "id": "dd2dcc62",
   "metadata": {},
   "outputs": [
    {
     "data": {
      "text/html": [
       "<div>\n",
       "<style scoped>\n",
       "    .dataframe tbody tr th:only-of-type {\n",
       "        vertical-align: middle;\n",
       "    }\n",
       "\n",
       "    .dataframe tbody tr th {\n",
       "        vertical-align: top;\n",
       "    }\n",
       "\n",
       "    .dataframe thead th {\n",
       "        text-align: right;\n",
       "    }\n",
       "</style>\n",
       "<table border=\"1\" class=\"dataframe\">\n",
       "  <thead>\n",
       "    <tr style=\"text-align: right;\">\n",
       "      <th></th>\n",
       "      <th>gender</th>\n",
       "      <th>height</th>\n",
       "      <th>religion</th>\n",
       "      <th>caste</th>\n",
       "      <th>mother_tongue</th>\n",
       "      <th>country</th>\n",
       "    </tr>\n",
       "  </thead>\n",
       "  <tbody>\n",
       "    <tr>\n",
       "      <th>1</th>\n",
       "      <td>male</td>\n",
       "      <td>5'7\"</td>\n",
       "      <td>Jain</td>\n",
       "      <td>Shwetamber</td>\n",
       "      <td>Gujarati</td>\n",
       "      <td>USA</td>\n",
       "    </tr>\n",
       "    <tr>\n",
       "      <th>2</th>\n",
       "      <td>male</td>\n",
       "      <td>5'7\"</td>\n",
       "      <td>Hindu</td>\n",
       "      <td>Brahmin</td>\n",
       "      <td>Hindi</td>\n",
       "      <td>India</td>\n",
       "    </tr>\n",
       "    <tr>\n",
       "      <th>3</th>\n",
       "      <td>female</td>\n",
       "      <td>5'0\"</td>\n",
       "      <td>Hindu</td>\n",
       "      <td>Thakur</td>\n",
       "      <td>Hindi</td>\n",
       "      <td>India</td>\n",
       "    </tr>\n",
       "    <tr>\n",
       "      <th>4</th>\n",
       "      <td>male</td>\n",
       "      <td>5'5\"</td>\n",
       "      <td>Christian</td>\n",
       "      <td>Born Again</td>\n",
       "      <td>Malayalam</td>\n",
       "      <td>India</td>\n",
       "    </tr>\n",
       "    <tr>\n",
       "      <th>5</th>\n",
       "      <td>male</td>\n",
       "      <td>5'5\"</td>\n",
       "      <td>Hindu</td>\n",
       "      <td>Valmiki</td>\n",
       "      <td>Hindi</td>\n",
       "      <td>India</td>\n",
       "    </tr>\n",
       "  </tbody>\n",
       "</table>\n",
       "</div>"
      ],
      "text/plain": [
       "   gender height   religion        caste mother_tongue country\n",
       "1    male   5'7\"       Jain   Shwetamber      Gujarati     USA\n",
       "2    male   5'7\"      Hindu      Brahmin         Hindi   India\n",
       "3  female   5'0\"      Hindu       Thakur         Hindi   India\n",
       "4    male   5'5\"  Christian   Born Again     Malayalam   India\n",
       "5    male   5'5\"      Hindu      Valmiki         Hindi   India"
      ]
     },
     "execution_count": 25,
     "metadata": {},
     "output_type": "execute_result"
    }
   ],
   "source": [
    "X.head()"
   ]
  },
  {
   "cell_type": "code",
   "execution_count": 26,
   "id": "bbf254d5",
   "metadata": {},
   "outputs": [
    {
     "data": {
      "text/plain": [
       "1    32.0\n",
       "2    32.0\n",
       "3    30.0\n",
       "4    30.0\n",
       "5    29.0\n",
       "Name: age_of_marriage, dtype: float64"
      ]
     },
     "execution_count": 26,
     "metadata": {},
     "output_type": "execute_result"
    }
   ],
   "source": [
    "y.head()"
   ]
  },
  {
   "cell_type": "markdown",
   "id": "a2ec28e2",
   "metadata": {},
   "source": [
    "## Data Clearning"
   ]
  },
  {
   "cell_type": "code",
   "execution_count": 27,
   "id": "9e78afc2",
   "metadata": {},
   "outputs": [],
   "source": [
    "# converting the strings to numbers using sklearn preprocessing tool\n",
    "from sklearn.preprocessing import LabelEncoder\n",
    "enc = LabelEncoder()\n",
    "X.loc[:, ['gender', 'height', 'religion', 'caste', 'mother_tongue', 'country']] = \\\n",
    "X.loc[:, ['gender', 'height', 'religion', 'caste', 'mother_tongue', 'country']].apply(enc.fit_transform)"
   ]
  },
  {
   "cell_type": "code",
   "execution_count": 28,
   "id": "15cd7464",
   "metadata": {},
   "outputs": [
    {
     "data": {
      "text/html": [
       "<div>\n",
       "<style scoped>\n",
       "    .dataframe tbody tr th:only-of-type {\n",
       "        vertical-align: middle;\n",
       "    }\n",
       "\n",
       "    .dataframe tbody tr th {\n",
       "        vertical-align: top;\n",
       "    }\n",
       "\n",
       "    .dataframe thead th {\n",
       "        text-align: right;\n",
       "    }\n",
       "</style>\n",
       "<table border=\"1\" class=\"dataframe\">\n",
       "  <thead>\n",
       "    <tr style=\"text-align: right;\">\n",
       "      <th></th>\n",
       "      <th>gender</th>\n",
       "      <th>height</th>\n",
       "      <th>religion</th>\n",
       "      <th>caste</th>\n",
       "      <th>mother_tongue</th>\n",
       "      <th>country</th>\n",
       "    </tr>\n",
       "  </thead>\n",
       "  <tbody>\n",
       "    <tr>\n",
       "      <th>1</th>\n",
       "      <td>1</td>\n",
       "      <td>16</td>\n",
       "      <td>2</td>\n",
       "      <td>34</td>\n",
       "      <td>6</td>\n",
       "      <td>19</td>\n",
       "    </tr>\n",
       "    <tr>\n",
       "      <th>2</th>\n",
       "      <td>1</td>\n",
       "      <td>16</td>\n",
       "      <td>1</td>\n",
       "      <td>14</td>\n",
       "      <td>8</td>\n",
       "      <td>5</td>\n",
       "    </tr>\n",
       "    <tr>\n",
       "      <th>3</th>\n",
       "      <td>0</td>\n",
       "      <td>7</td>\n",
       "      <td>1</td>\n",
       "      <td>36</td>\n",
       "      <td>8</td>\n",
       "      <td>5</td>\n",
       "    </tr>\n",
       "    <tr>\n",
       "      <th>4</th>\n",
       "      <td>1</td>\n",
       "      <td>14</td>\n",
       "      <td>0</td>\n",
       "      <td>13</td>\n",
       "      <td>13</td>\n",
       "      <td>5</td>\n",
       "    </tr>\n",
       "    <tr>\n",
       "      <th>5</th>\n",
       "      <td>1</td>\n",
       "      <td>14</td>\n",
       "      <td>1</td>\n",
       "      <td>38</td>\n",
       "      <td>8</td>\n",
       "      <td>5</td>\n",
       "    </tr>\n",
       "  </tbody>\n",
       "</table>\n",
       "</div>"
      ],
      "text/plain": [
       "   gender  height  religion  caste  mother_tongue  country\n",
       "1       1      16         2     34              6       19\n",
       "2       1      16         1     14              8        5\n",
       "3       0       7         1     36              8        5\n",
       "4       1      14         0     13             13        5\n",
       "5       1      14         1     38              8        5"
      ]
     },
     "execution_count": 28,
     "metadata": {},
     "output_type": "execute_result"
    }
   ],
   "source": [
    "X.head()"
   ]
  },
  {
   "cell_type": "code",
   "execution_count": 30,
   "id": "1f4288a3",
   "metadata": {},
   "outputs": [],
   "source": [
    "from sklearn.model_selection import train_test_split\n",
    "X_train, X_test, y_train, y_test = train_test_split(X,y,test_size=0.2, random_state=0)"
   ]
  },
  {
   "cell_type": "markdown",
   "id": "3790e1ff",
   "metadata": {},
   "source": [
    "## Building the Model"
   ]
  },
  {
   "cell_type": "code",
   "execution_count": 41,
   "id": "64baa543",
   "metadata": {},
   "outputs": [],
   "source": [
    "from sklearn.ensemble import RandomForestRegressor\n",
    "model = RandomForestRegressor(n_estimators=90,max_depth=11)\n",
    "model.fit(X_train,y_train)\n",
    "y_predict = model.predict(X_test)"
   ]
  },
  {
   "cell_type": "markdown",
   "id": "920f1275",
   "metadata": {},
   "source": [
    "## Evalution"
   ]
  },
  {
   "cell_type": "code",
   "execution_count": 42,
   "id": "8db06a3a",
   "metadata": {},
   "outputs": [
    {
     "name": "stdout",
     "output_type": "stream",
     "text": [
      "MAE :  1.045354054110469\n"
     ]
    },
    {
     "data": {
      "text/plain": [
       "0.6908793706282866"
      ]
     },
     "execution_count": 42,
     "metadata": {},
     "output_type": "execute_result"
    }
   ],
   "source": [
    "from sklearn.metrics import mean_absolute_error, r2_score\n",
    "print(\"MAE : \", mean_absolute_error(y_test, y_predict))\n",
    "r2_score(y_test, y_predict)"
   ]
  },
  {
   "cell_type": "markdown",
   "id": "8eecdcd4",
   "metadata": {},
   "source": [
    "## Export model"
   ]
  },
  {
   "cell_type": "code",
   "execution_count": 44,
   "id": "cfa63995",
   "metadata": {},
   "outputs": [
    {
     "data": {
      "text/plain": [
       "['marriage_age_predict_model.ml']"
      ]
     },
     "execution_count": 44,
     "metadata": {},
     "output_type": "execute_result"
    }
   ],
   "source": [
    "# from sklearn.externals import joblib\n",
    "import joblib\n",
    "joblib.dump(model,'marriage_age_predict_model.ml')"
   ]
  },
  {
   "cell_type": "code",
   "execution_count": null,
   "id": "e9f847de",
   "metadata": {},
   "outputs": [],
   "source": []
  },
  {
   "cell_type": "code",
   "execution_count": null,
   "id": "89557733",
   "metadata": {},
   "outputs": [],
   "source": []
  }
 ],
 "metadata": {
  "kernelspec": {
   "display_name": "Python 3",
   "language": "python",
   "name": "python3"
  },
  "language_info": {
   "codemirror_mode": {
    "name": "ipython",
    "version": 3
   },
   "file_extension": ".py",
   "mimetype": "text/x-python",
   "name": "python",
   "nbconvert_exporter": "python",
   "pygments_lexer": "ipython3",
   "version": "3.8.8"
  }
 },
 "nbformat": 4,
 "nbformat_minor": 5
}
